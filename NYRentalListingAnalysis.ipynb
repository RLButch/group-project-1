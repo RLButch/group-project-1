{
 "cells": [
  {
   "attachments": {},
   "cell_type": "markdown",
   "metadata": {},
   "source": [
    "NY Rental Analysis"
   ]
  },
  {
   "cell_type": "code",
   "execution_count": 42,
   "metadata": {},
   "outputs": [],
   "source": [
    "# Dependencies and set up\n",
    "import os\n",
    "import csv\n",
    "import hvplot.pandas\n",
    "import pandas as pd\n",
    "import requests\n",
    "from pathlib import Path\n",
    "import numpy as np\n",
    "import requests\n",
    "import time\n",
    "import matplotlib.pyplot as plt\n",
    "from scipy.stats import linregress"
   ]
  },
  {
   "cell_type": "code",
   "execution_count": 43,
   "metadata": {},
   "outputs": [
    {
     "data": {
      "text/html": [
       "<div>\n",
       "<style scoped>\n",
       "    .dataframe tbody tr th:only-of-type {\n",
       "        vertical-align: middle;\n",
       "    }\n",
       "\n",
       "    .dataframe tbody tr th {\n",
       "        vertical-align: top;\n",
       "    }\n",
       "\n",
       "    .dataframe thead th {\n",
       "        text-align: right;\n",
       "    }\n",
       "</style>\n",
       "<table border=\"1\" class=\"dataframe\">\n",
       "  <thead>\n",
       "    <tr style=\"text-align: right;\">\n",
       "      <th></th>\n",
       "      <th>F1</th>\n",
       "      <th>id</th>\n",
       "      <th>neighbourhood</th>\n",
       "      <th>latitude</th>\n",
       "      <th>longitude</th>\n",
       "      <th>room_type</th>\n",
       "      <th>price</th>\n",
       "      <th>days_occupied_in_2019</th>\n",
       "      <th>minimum_nights</th>\n",
       "      <th>number_of_reviews</th>\n",
       "      <th>reviews_per_month</th>\n",
       "      <th>availability_2020</th>\n",
       "    </tr>\n",
       "  </thead>\n",
       "  <tbody>\n",
       "    <tr>\n",
       "      <th>0</th>\n",
       "      <td>0</td>\n",
       "      <td>2595</td>\n",
       "      <td>Midtown</td>\n",
       "      <td>40.75362</td>\n",
       "      <td>-73.98377</td>\n",
       "      <td>Entire home/apt</td>\n",
       "      <td>225</td>\n",
       "      <td>15</td>\n",
       "      <td>10</td>\n",
       "      <td>48</td>\n",
       "      <td>0.39</td>\n",
       "      <td>1</td>\n",
       "    </tr>\n",
       "    <tr>\n",
       "      <th>1</th>\n",
       "      <td>1</td>\n",
       "      <td>3831</td>\n",
       "      <td>Brooklyn</td>\n",
       "      <td>40.68514</td>\n",
       "      <td>-73.95976</td>\n",
       "      <td>Entire home/apt</td>\n",
       "      <td>89</td>\n",
       "      <td>188</td>\n",
       "      <td>1</td>\n",
       "      <td>295</td>\n",
       "      <td>4.67</td>\n",
       "      <td>1</td>\n",
       "    </tr>\n",
       "    <tr>\n",
       "      <th>2</th>\n",
       "      <td>2</td>\n",
       "      <td>5099</td>\n",
       "      <td>Manhattan</td>\n",
       "      <td>40.74767</td>\n",
       "      <td>-73.97500</td>\n",
       "      <td>Entire home/apt</td>\n",
       "      <td>200</td>\n",
       "      <td>362</td>\n",
       "      <td>3</td>\n",
       "      <td>78</td>\n",
       "      <td>0.60</td>\n",
       "      <td>19</td>\n",
       "    </tr>\n",
       "    <tr>\n",
       "      <th>3</th>\n",
       "      <td>3</td>\n",
       "      <td>5121</td>\n",
       "      <td>Bedford-Stuyvesant</td>\n",
       "      <td>40.68688</td>\n",
       "      <td>-73.95596</td>\n",
       "      <td>Private room</td>\n",
       "      <td>60</td>\n",
       "      <td>0</td>\n",
       "      <td>29</td>\n",
       "      <td>49</td>\n",
       "      <td>0.38</td>\n",
       "      <td>365</td>\n",
       "    </tr>\n",
       "    <tr>\n",
       "      <th>4</th>\n",
       "      <td>4</td>\n",
       "      <td>5178</td>\n",
       "      <td>Manhattan</td>\n",
       "      <td>40.76489</td>\n",
       "      <td>-73.98493</td>\n",
       "      <td>Private room</td>\n",
       "      <td>79</td>\n",
       "      <td>141</td>\n",
       "      <td>2</td>\n",
       "      <td>454</td>\n",
       "      <td>3.52</td>\n",
       "      <td>242</td>\n",
       "    </tr>\n",
       "  </tbody>\n",
       "</table>\n",
       "</div>"
      ],
      "text/plain": [
       "   F1    id       neighbourhood  latitude  longitude        room_type  price  \\\n",
       "0   0  2595             Midtown  40.75362  -73.98377  Entire home/apt    225   \n",
       "1   1  3831            Brooklyn  40.68514  -73.95976  Entire home/apt     89   \n",
       "2   2  5099           Manhattan  40.74767  -73.97500  Entire home/apt    200   \n",
       "3   3  5121  Bedford-Stuyvesant  40.68688  -73.95596     Private room     60   \n",
       "4   4  5178           Manhattan  40.76489  -73.98493     Private room     79   \n",
       "\n",
       "   days_occupied_in_2019  minimum_nights  number_of_reviews  \\\n",
       "0                     15              10                 48   \n",
       "1                    188               1                295   \n",
       "2                    362               3                 78   \n",
       "3                      0              29                 49   \n",
       "4                    141               2                454   \n",
       "\n",
       "   reviews_per_month  availability_2020  \n",
       "0               0.39                  1  \n",
       "1               4.67                  1  \n",
       "2               0.60                 19  \n",
       "3               0.38                365  \n",
       "4               3.52                242  "
      ]
     },
     "execution_count": 43,
     "metadata": {},
     "output_type": "execute_result"
    }
   ],
   "source": [
    "# Set path for file\n",
    "import csv\n",
    "csv_file = os.path.join(\"NY Realstate Pricing.csv\")\n",
    "realestate_data_df = pd.read_csv(csv_file)\n",
    "\n",
    "# Display sample data\n",
    "realestate_data_df.head()"
   ]
  },
  {
   "cell_type": "code",
   "execution_count": 44,
   "metadata": {},
   "outputs": [
    {
     "data": {
      "text/plain": [
       "Brooklyn              3875\n",
       "Manhattan             3229\n",
       "Queens                1099\n",
       "Bedford-Stuyvesant     799\n",
       "Harlem                 632\n",
       "                      ... \n",
       "Sea Gate                 1\n",
       "Marble Hill              1\n",
       "Midland Beach            1\n",
       "Mill Basin               1\n",
       "Van Nest                 1\n",
       "Name: neighbourhood, Length: 186, dtype: int64"
      ]
     },
     "execution_count": 44,
     "metadata": {},
     "output_type": "execute_result"
    }
   ],
   "source": [
    "#checking the number of neighbourhoods in NY\n",
    "realestate_data_df[\"neighbourhood\"].value_counts()"
   ]
  },
  {
   "cell_type": "code",
   "execution_count": 45,
   "metadata": {},
   "outputs": [
    {
     "data": {
      "text/html": [
       "<div>\n",
       "<style scoped>\n",
       "    .dataframe tbody tr th:only-of-type {\n",
       "        vertical-align: middle;\n",
       "    }\n",
       "\n",
       "    .dataframe tbody tr th {\n",
       "        vertical-align: top;\n",
       "    }\n",
       "\n",
       "    .dataframe thead th {\n",
       "        text-align: right;\n",
       "    }\n",
       "</style>\n",
       "<table border=\"1\" class=\"dataframe\">\n",
       "  <thead>\n",
       "    <tr style=\"text-align: right;\">\n",
       "      <th></th>\n",
       "      <th>F1</th>\n",
       "      <th>id</th>\n",
       "      <th>neighbourhood</th>\n",
       "      <th>latitude</th>\n",
       "      <th>longitude</th>\n",
       "      <th>room_type</th>\n",
       "      <th>price</th>\n",
       "      <th>days_occupied_in_2019</th>\n",
       "      <th>minimum_nights</th>\n",
       "      <th>number_of_reviews</th>\n",
       "      <th>reviews_per_month</th>\n",
       "      <th>availability_2020</th>\n",
       "    </tr>\n",
       "  </thead>\n",
       "  <tbody>\n",
       "    <tr>\n",
       "      <th>0</th>\n",
       "      <td>0</td>\n",
       "      <td>2595</td>\n",
       "      <td>Midtown</td>\n",
       "      <td>40.75362</td>\n",
       "      <td>-73.98377</td>\n",
       "      <td>Entire home/apt</td>\n",
       "      <td>225</td>\n",
       "      <td>15</td>\n",
       "      <td>10</td>\n",
       "      <td>48</td>\n",
       "      <td>0.39</td>\n",
       "      <td>1</td>\n",
       "    </tr>\n",
       "    <tr>\n",
       "      <th>1</th>\n",
       "      <td>1</td>\n",
       "      <td>3831</td>\n",
       "      <td>Brooklyn</td>\n",
       "      <td>40.68514</td>\n",
       "      <td>-73.95976</td>\n",
       "      <td>Entire home/apt</td>\n",
       "      <td>89</td>\n",
       "      <td>188</td>\n",
       "      <td>1</td>\n",
       "      <td>295</td>\n",
       "      <td>4.67</td>\n",
       "      <td>1</td>\n",
       "    </tr>\n",
       "    <tr>\n",
       "      <th>2</th>\n",
       "      <td>2</td>\n",
       "      <td>5099</td>\n",
       "      <td>Manhattan</td>\n",
       "      <td>40.74767</td>\n",
       "      <td>-73.97500</td>\n",
       "      <td>Entire home/apt</td>\n",
       "      <td>200</td>\n",
       "      <td>362</td>\n",
       "      <td>3</td>\n",
       "      <td>78</td>\n",
       "      <td>0.60</td>\n",
       "      <td>19</td>\n",
       "    </tr>\n",
       "    <tr>\n",
       "      <th>3</th>\n",
       "      <td>3</td>\n",
       "      <td>5121</td>\n",
       "      <td>Bedford-Stuyvesant</td>\n",
       "      <td>40.68688</td>\n",
       "      <td>-73.95596</td>\n",
       "      <td>Private room</td>\n",
       "      <td>60</td>\n",
       "      <td>0</td>\n",
       "      <td>29</td>\n",
       "      <td>49</td>\n",
       "      <td>0.38</td>\n",
       "      <td>365</td>\n",
       "    </tr>\n",
       "    <tr>\n",
       "      <th>4</th>\n",
       "      <td>4</td>\n",
       "      <td>5178</td>\n",
       "      <td>Manhattan</td>\n",
       "      <td>40.76489</td>\n",
       "      <td>-73.98493</td>\n",
       "      <td>Private room</td>\n",
       "      <td>79</td>\n",
       "      <td>141</td>\n",
       "      <td>2</td>\n",
       "      <td>454</td>\n",
       "      <td>3.52</td>\n",
       "      <td>242</td>\n",
       "    </tr>\n",
       "  </tbody>\n",
       "</table>\n",
       "</div>"
      ],
      "text/plain": [
       "   F1    id       neighbourhood  latitude  longitude        room_type  price  \\\n",
       "0   0  2595             Midtown  40.75362  -73.98377  Entire home/apt    225   \n",
       "1   1  3831            Brooklyn  40.68514  -73.95976  Entire home/apt     89   \n",
       "2   2  5099           Manhattan  40.74767  -73.97500  Entire home/apt    200   \n",
       "3   3  5121  Bedford-Stuyvesant  40.68688  -73.95596     Private room     60   \n",
       "4   4  5178           Manhattan  40.76489  -73.98493     Private room     79   \n",
       "\n",
       "   days_occupied_in_2019  minimum_nights  number_of_reviews  \\\n",
       "0                     15              10                 48   \n",
       "1                    188               1                295   \n",
       "2                    362               3                 78   \n",
       "3                      0              29                 49   \n",
       "4                    141               2                454   \n",
       "\n",
       "   reviews_per_month  availability_2020  \n",
       "0               0.39                  1  \n",
       "1               4.67                  1  \n",
       "2               0.60                 19  \n",
       "3               0.38                365  \n",
       "4               3.52                242  "
      ]
     },
     "execution_count": 45,
     "metadata": {},
     "output_type": "execute_result"
    }
   ],
   "source": [
    "#clean data\n",
    "realestate_data_clean_df = realestate_data_df.dropna() \n",
    "\n",
    "\n",
    "# Drop any rows with null values\n",
    "#perferred_cities = perferred_cities.dropna()\n",
    "\n",
    "# Display sample data\n",
    "realestate_data_clean_df.head()"
   ]
  },
  {
   "cell_type": "code",
   "execution_count": 46,
   "metadata": {},
   "outputs": [
    {
     "data": {
      "text/html": [
       "<div>\n",
       "<style scoped>\n",
       "    .dataframe tbody tr th:only-of-type {\n",
       "        vertical-align: middle;\n",
       "    }\n",
       "\n",
       "    .dataframe tbody tr th {\n",
       "        vertical-align: top;\n",
       "    }\n",
       "\n",
       "    .dataframe thead th {\n",
       "        text-align: right;\n",
       "    }\n",
       "</style>\n",
       "<table border=\"1\" class=\"dataframe\">\n",
       "  <thead>\n",
       "    <tr style=\"text-align: right;\">\n",
       "      <th></th>\n",
       "      <th>Mean</th>\n",
       "      <th>Median</th>\n",
       "      <th>Variance</th>\n",
       "      <th>Standard Deviation</th>\n",
       "      <th>SEM</th>\n",
       "    </tr>\n",
       "    <tr>\n",
       "      <th>room_type</th>\n",
       "      <th></th>\n",
       "      <th></th>\n",
       "      <th></th>\n",
       "      <th></th>\n",
       "      <th></th>\n",
       "    </tr>\n",
       "  </thead>\n",
       "  <tbody>\n",
       "    <tr>\n",
       "      <th>Entire home/apt</th>\n",
       "      <td>185.165231</td>\n",
       "      <td>200.0</td>\n",
       "      <td>16986.175375</td>\n",
       "      <td>130.331022</td>\n",
       "      <td>1.343904</td>\n",
       "    </tr>\n",
       "    <tr>\n",
       "      <th>Hotel room</th>\n",
       "      <td>83.500000</td>\n",
       "      <td>14.5</td>\n",
       "      <td>13106.878788</td>\n",
       "      <td>114.485278</td>\n",
       "      <td>11.448528</td>\n",
       "    </tr>\n",
       "    <tr>\n",
       "      <th>Private room</th>\n",
       "      <td>175.723297</td>\n",
       "      <td>198.0</td>\n",
       "      <td>16689.546055</td>\n",
       "      <td>129.188026</td>\n",
       "      <td>1.467288</td>\n",
       "    </tr>\n",
       "    <tr>\n",
       "      <th>Shared room</th>\n",
       "      <td>140.022409</td>\n",
       "      <td>83.0</td>\n",
       "      <td>17693.482642</td>\n",
       "      <td>133.016851</td>\n",
       "      <td>7.039998</td>\n",
       "    </tr>\n",
       "  </tbody>\n",
       "</table>\n",
       "</div>"
      ],
      "text/plain": [
       "                       Mean  Median      Variance  Standard Deviation  \\\n",
       "room_type                                                               \n",
       "Entire home/apt  185.165231   200.0  16986.175375          130.331022   \n",
       "Hotel room        83.500000    14.5  13106.878788          114.485278   \n",
       "Private room     175.723297   198.0  16689.546055          129.188026   \n",
       "Shared room      140.022409    83.0  17693.482642          133.016851   \n",
       "\n",
       "                       SEM  \n",
       "room_type                   \n",
       "Entire home/apt   1.343904  \n",
       "Hotel room       11.448528  \n",
       "Private room      1.467288  \n",
       "Shared room       7.039998  "
      ]
     },
     "execution_count": 46,
     "metadata": {},
     "output_type": "execute_result"
    }
   ],
   "source": [
    "# Generate a summary statistics table of mean, median, variance, standard deviation, and SEM of the days_occuppied_in_2019 for each room type\n",
    "daysoccupied = realestate_data_clean_df.groupby([\"room_type\"])\n",
    "# Use groupby and summary statistical methods to calculate the following properties of each room type: \n",
    "# mean, median, variance, standard deviation, and SEM of the occupancy rate. \n",
    "# Assemble the resulting series into a single summary DataFrame.\n",
    "daysoccupied_mean = daysoccupied[\"days_occupied_in_2019\"].mean()\n",
    "daysoccupied_median = daysoccupied[\"days_occupied_in_2019\"].median()\n",
    "daysoccupied_var = daysoccupied[\"days_occupied_in_2019\"].var()\n",
    "daysoccupied_std = daysoccupied[\"days_occupied_in_2019\"].std()\n",
    "daysoccupied_sem = daysoccupied[\"days_occupied_in_2019\"].sem()\n",
    "\n",
    "daysoccupied_df = pd.DataFrame({\n",
    "                        \"Mean\": daysoccupied_mean,\n",
    "                        \"Median\" : daysoccupied_median,\n",
    "                        \"Variance\": daysoccupied_var,\n",
    "                        \"Standard Deviation\": daysoccupied_std,\n",
    "                        \"SEM\": daysoccupied_sem,\n",
    "})\n",
    "\n",
    "daysoccupied_df"
   ]
  },
  {
   "cell_type": "code",
   "execution_count": 51,
   "metadata": {},
   "outputs": [
    {
     "ename": "AttributeError",
     "evalue": "'Series' object has no attribute 'show'",
     "output_type": "error",
     "traceback": [
      "\u001b[1;31m---------------------------------------------------------------------------\u001b[0m",
      "\u001b[1;31mAttributeError\u001b[0m                            Traceback (most recent call last)",
      "Cell \u001b[1;32mIn[51], line 5\u001b[0m\n\u001b[0;32m      2\u001b[0m timepoint \u001b[39m=\u001b[39m realestate_data_df\u001b[39m.\u001b[39mgroupby([\u001b[39m\"\u001b[39m\u001b[39mroom_type\u001b[39m\u001b[39m\"\u001b[39m])[\u001b[39m\"\u001b[39m\u001b[39mprice\u001b[39m\u001b[39m\"\u001b[39m]\u001b[39m.\u001b[39mcount()\n\u001b[0;32m      3\u001b[0m timepoint\u001b[39m.\u001b[39msort_values(ascending\u001b[39m=\u001b[39m\u001b[39mFalse\u001b[39;00m)\u001b[39m.\u001b[39mplot\u001b[39m.\u001b[39mbar()\n\u001b[1;32m----> 5\u001b[0m timepoint\u001b[39m.\u001b[39;49mshow()\n",
      "File \u001b[1;32mc:\\Users\\becsh\\OneDrive\\Documents\\anaconda\\envs\\dev\\lib\\site-packages\\pandas\\core\\generic.py:5902\u001b[0m, in \u001b[0;36mNDFrame.__getattr__\u001b[1;34m(self, name)\u001b[0m\n\u001b[0;32m   5895\u001b[0m \u001b[39mif\u001b[39;00m (\n\u001b[0;32m   5896\u001b[0m     name \u001b[39mnot\u001b[39;00m \u001b[39min\u001b[39;00m \u001b[39mself\u001b[39m\u001b[39m.\u001b[39m_internal_names_set\n\u001b[0;32m   5897\u001b[0m     \u001b[39mand\u001b[39;00m name \u001b[39mnot\u001b[39;00m \u001b[39min\u001b[39;00m \u001b[39mself\u001b[39m\u001b[39m.\u001b[39m_metadata\n\u001b[0;32m   5898\u001b[0m     \u001b[39mand\u001b[39;00m name \u001b[39mnot\u001b[39;00m \u001b[39min\u001b[39;00m \u001b[39mself\u001b[39m\u001b[39m.\u001b[39m_accessors\n\u001b[0;32m   5899\u001b[0m     \u001b[39mand\u001b[39;00m \u001b[39mself\u001b[39m\u001b[39m.\u001b[39m_info_axis\u001b[39m.\u001b[39m_can_hold_identifiers_and_holds_name(name)\n\u001b[0;32m   5900\u001b[0m ):\n\u001b[0;32m   5901\u001b[0m     \u001b[39mreturn\u001b[39;00m \u001b[39mself\u001b[39m[name]\n\u001b[1;32m-> 5902\u001b[0m \u001b[39mreturn\u001b[39;00m \u001b[39mobject\u001b[39;49m\u001b[39m.\u001b[39;49m\u001b[39m__getattribute__\u001b[39;49m(\u001b[39mself\u001b[39;49m, name)\n",
      "\u001b[1;31mAttributeError\u001b[0m: 'Series' object has no attribute 'show'"
     ]
    },
    {
     "data": {
      "image/png": "[encoded data removed]",
      "text/plain": [
       "<Figure size 640x480 with 1 Axes>"
      ]
     },
     "metadata": {},
     "output_type": "display_data"
    }
   ],
   "source": [
    "# Generate a bar plot showing the total number of timepoints for all mice tested for each drug regimen using Pandas.\n",
    "timepoint = realestate_data_df.groupby([\"room_type\"])[\"price\"].count()\n",
    "timepoint.sort_values(ascending=False).plot.bar()\n",
    "\n",
    "timepoint.show()\n"
   ]
  },
  {
   "cell_type": "code",
   "execution_count": 54,
   "metadata": {},
   "outputs": [
    {
     "ename": "ValueError",
     "evalue": "could not convert string to float: 'Entire home/apt'",
     "output_type": "error",
     "traceback": [
      "\u001b[1;31m---------------------------------------------------------------------------\u001b[0m",
      "\u001b[1;31mValueError\u001b[0m                                Traceback (most recent call last)",
      "Cell \u001b[1;32mIn[54], line 5\u001b[0m\n\u001b[0;32m      3\u001b[0m room_type\u001b[39m.\u001b[39mrename(columns\u001b[39m=\u001b[39m{\u001b[39m'\u001b[39m\u001b[39mlatitude\u001b[39m\u001b[39m'\u001b[39m:\u001b[39m'\u001b[39m\u001b[39mroom_type\u001b[39m\u001b[39m'\u001b[39m},inplace\u001b[39m=\u001b[39m\u001b[39mTrue\u001b[39;00m)\n\u001b[0;32m      4\u001b[0m plt\u001b[39m.\u001b[39mfigure(figsize\u001b[39m=\u001b[39m(\u001b[39m10\u001b[39m,\u001b[39m8\u001b[39m))\n\u001b[1;32m----> 5\u001b[0m plt\u001b[39m.\u001b[39;49mpie(room_type[\u001b[39m'\u001b[39;49m\u001b[39mroom_type\u001b[39;49m\u001b[39m'\u001b[39;49m],autopct\u001b[39m=\u001b[39;49m\u001b[39m'\u001b[39;49m\u001b[39m%1.2f\u001b[39;49;00m\u001b[39m%%\u001b[39;49;00m\u001b[39m'\u001b[39;49m, colors\u001b[39m=\u001b[39;49m[\u001b[39m'\u001b[39;49m\u001b[39mdarkcyan\u001b[39;49m\u001b[39m'\u001b[39;49m, \u001b[39m'\u001b[39;49m\u001b[39msteelblue\u001b[39;49m\u001b[39m'\u001b[39;49m,\u001b[39m'\u001b[39;49m\u001b[39mpowderblue\u001b[39;49m\u001b[39m'\u001b[39;49m])\n\u001b[0;32m      6\u001b[0m plt\u001b[39m.\u001b[39maxis(\u001b[39m'\u001b[39m\u001b[39mequal\u001b[39m\u001b[39m'\u001b[39m)\n\u001b[0;32m      7\u001b[0m plt\u001b[39m.\u001b[39mlegend(labels\u001b[39m=\u001b[39mroom_type[\u001b[39m'\u001b[39m\u001b[39mroom_type\u001b[39m\u001b[39m'\u001b[39m],loc\u001b[39m=\u001b[39m\u001b[39m'\u001b[39m\u001b[39mbest\u001b[39m\u001b[39m'\u001b[39m,fontsize\u001b[39m=\u001b[39m\u001b[39m'\u001b[39m\u001b[39m12\u001b[39m\u001b[39m'\u001b[39m)\n",
      "File \u001b[1;32mc:\\Users\\becsh\\OneDrive\\Documents\\anaconda\\envs\\dev\\lib\\site-packages\\matplotlib\\pyplot.py:2799\u001b[0m, in \u001b[0;36mpie\u001b[1;34m(x, explode, labels, colors, autopct, pctdistance, shadow, labeldistance, startangle, radius, counterclock, wedgeprops, textprops, center, frame, rotatelabels, normalize, hatch, data)\u001b[0m\n\u001b[0;32m   2792\u001b[0m \u001b[39m@_copy_docstring_and_deprecators\u001b[39m(Axes\u001b[39m.\u001b[39mpie)\n\u001b[0;32m   2793\u001b[0m \u001b[39mdef\u001b[39;00m \u001b[39mpie\u001b[39m(\n\u001b[0;32m   2794\u001b[0m         x, explode\u001b[39m=\u001b[39m\u001b[39mNone\u001b[39;00m, labels\u001b[39m=\u001b[39m\u001b[39mNone\u001b[39;00m, colors\u001b[39m=\u001b[39m\u001b[39mNone\u001b[39;00m, autopct\u001b[39m=\u001b[39m\u001b[39mNone\u001b[39;00m,\n\u001b[1;32m   (...)\u001b[0m\n\u001b[0;32m   2797\u001b[0m         textprops\u001b[39m=\u001b[39m\u001b[39mNone\u001b[39;00m, center\u001b[39m=\u001b[39m(\u001b[39m0\u001b[39m, \u001b[39m0\u001b[39m), frame\u001b[39m=\u001b[39m\u001b[39mFalse\u001b[39;00m,\n\u001b[0;32m   2798\u001b[0m         rotatelabels\u001b[39m=\u001b[39m\u001b[39mFalse\u001b[39;00m, \u001b[39m*\u001b[39m, normalize\u001b[39m=\u001b[39m\u001b[39mTrue\u001b[39;00m, hatch\u001b[39m=\u001b[39m\u001b[39mNone\u001b[39;00m, data\u001b[39m=\u001b[39m\u001b[39mNone\u001b[39;00m):\n\u001b[1;32m-> 2799\u001b[0m     \u001b[39mreturn\u001b[39;00m gca()\u001b[39m.\u001b[39mpie(\n\u001b[0;32m   2800\u001b[0m         x, explode\u001b[39m=\u001b[39mexplode, labels\u001b[39m=\u001b[39mlabels, colors\u001b[39m=\u001b[39mcolors,\n\u001b[0;32m   2801\u001b[0m         autopct\u001b[39m=\u001b[39mautopct, pctdistance\u001b[39m=\u001b[39mpctdistance, shadow\u001b[39m=\u001b[39mshadow,\n\u001b[0;32m   2802\u001b[0m         labeldistance\u001b[39m=\u001b[39mlabeldistance, startangle\u001b[39m=\u001b[39mstartangle,\n\u001b[0;32m   2803\u001b[0m         radius\u001b[39m=\u001b[39mradius, counterclock\u001b[39m=\u001b[39mcounterclock,\n\u001b[0;32m   2804\u001b[0m         wedgeprops\u001b[39m=\u001b[39mwedgeprops, textprops\u001b[39m=\u001b[39mtextprops, center\u001b[39m=\u001b[39mcenter,\n\u001b[0;32m   2805\u001b[0m         frame\u001b[39m=\u001b[39mframe, rotatelabels\u001b[39m=\u001b[39mrotatelabels, normalize\u001b[39m=\u001b[39mnormalize,\n\u001b[0;32m   2806\u001b[0m         hatch\u001b[39m=\u001b[39mhatch, \u001b[39m*\u001b[39m\u001b[39m*\u001b[39m({\u001b[39m\"\u001b[39m\u001b[39mdata\u001b[39m\u001b[39m\"\u001b[39m: data} \u001b[39mif\u001b[39;00m data \u001b[39mis\u001b[39;00m \u001b[39mnot\u001b[39;00m \u001b[39mNone\u001b[39;00m \u001b[39melse\u001b[39;00m {}))\n",
      "File \u001b[1;32mc:\\Users\\becsh\\OneDrive\\Documents\\anaconda\\envs\\dev\\lib\\site-packages\\matplotlib\\__init__.py:1442\u001b[0m, in \u001b[0;36m_preprocess_data.<locals>.inner\u001b[1;34m(ax, data, *args, **kwargs)\u001b[0m\n\u001b[0;32m   1439\u001b[0m \u001b[39m@functools\u001b[39m\u001b[39m.\u001b[39mwraps(func)\n\u001b[0;32m   1440\u001b[0m \u001b[39mdef\u001b[39;00m \u001b[39minner\u001b[39m(ax, \u001b[39m*\u001b[39margs, data\u001b[39m=\u001b[39m\u001b[39mNone\u001b[39;00m, \u001b[39m*\u001b[39m\u001b[39m*\u001b[39mkwargs):\n\u001b[0;32m   1441\u001b[0m     \u001b[39mif\u001b[39;00m data \u001b[39mis\u001b[39;00m \u001b[39mNone\u001b[39;00m:\n\u001b[1;32m-> 1442\u001b[0m         \u001b[39mreturn\u001b[39;00m func(ax, \u001b[39m*\u001b[39m\u001b[39mmap\u001b[39m(sanitize_sequence, args), \u001b[39m*\u001b[39m\u001b[39m*\u001b[39mkwargs)\n\u001b[0;32m   1444\u001b[0m     bound \u001b[39m=\u001b[39m new_sig\u001b[39m.\u001b[39mbind(ax, \u001b[39m*\u001b[39margs, \u001b[39m*\u001b[39m\u001b[39m*\u001b[39mkwargs)\n\u001b[0;32m   1445\u001b[0m     auto_label \u001b[39m=\u001b[39m (bound\u001b[39m.\u001b[39marguments\u001b[39m.\u001b[39mget(label_namer)\n\u001b[0;32m   1446\u001b[0m                   \u001b[39mor\u001b[39;00m bound\u001b[39m.\u001b[39mkwargs\u001b[39m.\u001b[39mget(label_namer))\n",
      "File \u001b[1;32mc:\\Users\\becsh\\OneDrive\\Documents\\anaconda\\envs\\dev\\lib\\site-packages\\matplotlib\\axes\\_axes.py:3191\u001b[0m, in \u001b[0;36mAxes.pie\u001b[1;34m(self, x, explode, labels, colors, autopct, pctdistance, shadow, labeldistance, startangle, radius, counterclock, wedgeprops, textprops, center, frame, rotatelabels, normalize, hatch)\u001b[0m\n\u001b[0;32m   3188\u001b[0m \u001b[39mself\u001b[39m\u001b[39m.\u001b[39mset_aspect(\u001b[39m'\u001b[39m\u001b[39mequal\u001b[39m\u001b[39m'\u001b[39m)\n\u001b[0;32m   3189\u001b[0m \u001b[39m# The use of float32 is \"historical\", but can't be changed without\u001b[39;00m\n\u001b[0;32m   3190\u001b[0m \u001b[39m# regenerating the test baselines.\u001b[39;00m\n\u001b[1;32m-> 3191\u001b[0m x \u001b[39m=\u001b[39m np\u001b[39m.\u001b[39;49masarray(x, np\u001b[39m.\u001b[39;49mfloat32)\n\u001b[0;32m   3192\u001b[0m \u001b[39mif\u001b[39;00m x\u001b[39m.\u001b[39mndim \u001b[39m>\u001b[39m \u001b[39m1\u001b[39m:\n\u001b[0;32m   3193\u001b[0m     \u001b[39mraise\u001b[39;00m \u001b[39mValueError\u001b[39;00m(\u001b[39m\"\u001b[39m\u001b[39mx must be 1D\u001b[39m\u001b[39m\"\u001b[39m)\n",
      "File \u001b[1;32mc:\\Users\\becsh\\OneDrive\\Documents\\anaconda\\envs\\dev\\lib\\site-packages\\pandas\\core\\generic.py:2070\u001b[0m, in \u001b[0;36mNDFrame.__array__\u001b[1;34m(self, dtype)\u001b[0m\n\u001b[0;32m   2069\u001b[0m \u001b[39mdef\u001b[39;00m \u001b[39m__array__\u001b[39m(\u001b[39mself\u001b[39m, dtype: npt\u001b[39m.\u001b[39mDTypeLike \u001b[39m|\u001b[39m \u001b[39mNone\u001b[39;00m \u001b[39m=\u001b[39m \u001b[39mNone\u001b[39;00m) \u001b[39m-\u001b[39m\u001b[39m>\u001b[39m np\u001b[39m.\u001b[39mndarray:\n\u001b[1;32m-> 2070\u001b[0m     \u001b[39mreturn\u001b[39;00m np\u001b[39m.\u001b[39;49masarray(\u001b[39mself\u001b[39;49m\u001b[39m.\u001b[39;49m_values, dtype\u001b[39m=\u001b[39;49mdtype)\n",
      "\u001b[1;31mValueError\u001b[0m: could not convert string to float: 'Entire home/apt'"
     ]
    },
    {
     "data": {
      "image/png": "[encoded data removed]",
      "text/plain": [
       "<Figure size 1000x800 with 1 Axes>"
      ]
     },
     "metadata": {},
     "output_type": "display_data"
    }
   ],
   "source": [
    "# Generate a pie plot showing the distribution of room type \n",
    "room_type = realestate_data_clean_df.groupby('room_type')['latitude'].count().reset_index()\n",
    "room_type.rename(columns={'latitude':'room_type'},inplace=True)\n",
    "plt.figure(figsize=(10,8))\n",
    "plt.pie(room_type['room_type'],autopct='%1.2f%%', colors=['darkcyan', 'steelblue','powderblue'])\n",
    "plt.axis('equal')\n",
    "plt.legend(labels=room_type['room_type'],loc='best',fontsize='12')\n",
    "plt.title('Room-type Rental Distribution', fontsize='15',color='b')\n",
    "plt.show()\n",
    "plt.close()"
   ]
  },
  {
   "cell_type": "code",
   "execution_count": 48,
   "metadata": {},
   "outputs": [
    {
     "data": {
      "image/png": "[encoded data removed]",
      "text/plain": [
       "<Figure size 640x480 with 1 Axes>"
      ]
     },
     "metadata": {},
     "output_type": "display_data"
    }
   ],
   "source": [
    "# Build scatter plot for days_occupied_2019 vs. price\n",
    "x_values = realestate_data_clean_df['price']\n",
    "y_values = realestate_data_clean_df['days_occupied_in_2019']\n",
    "plt.scatter(x_values,y_values)\n",
    "\n",
    "# Incorporate the other graph properties\n",
    "plt.title(f\"Days occupied in 2019 vs. Price\" + time.strftime(\"%x\"))\n",
    "plt.ylabel(\"Days occupied\")\n",
    "plt.xlabel(\"price\")\n",
    "plt.grid(True)\n",
    "\n",
    "# Save the figure\n",
    "plt.savefig(\"output/Fig1.png\")\n",
    "\n",
    "# Show plot\n",
    "plt.show()"
   ]
  },
  {
   "cell_type": "code",
   "execution_count": null,
   "metadata": {},
   "outputs": [],
   "source": [
    "# Define a function to create Linear Regression plots\n",
    "#def plot_linear_regression(x_values, y_values, title, y_label, text_coordinates)\n",
    "(slope, intercept, r_value, p_value, std_err)= linregress(x_values, y_values)"
   ]
  },
  {
   "cell_type": "code",
   "execution_count": 50,
   "metadata": {},
   "outputs": [
    {
     "ename": "TypeError",
     "evalue": "ufunc 'divide' not supported for the input types, and the inputs could not be safely coerced to any supported types according to the casting rule ''safe''",
     "output_type": "error",
     "traceback": [
      "\u001b[1;31m---------------------------------------------------------------------------\u001b[0m",
      "\u001b[1;31mTypeError\u001b[0m                                 Traceback (most recent call last)",
      "Cell \u001b[1;32mIn[50], line 4\u001b[0m\n\u001b[0;32m      2\u001b[0m x_values \u001b[39m=\u001b[39m realestate_data_clean_df[\u001b[39m\"\u001b[39m\u001b[39mroom_type\u001b[39m\u001b[39m\"\u001b[39m]\n\u001b[0;32m      3\u001b[0m y_values \u001b[39m=\u001b[39m realestate_data_clean_df[\u001b[39m'\u001b[39m\u001b[39mprice\u001b[39m\u001b[39m'\u001b[39m]\n\u001b[1;32m----> 4\u001b[0m (slope, intercept, rvalue, pvalue, stderr) \u001b[39m=\u001b[39m linregress(x_values, y_values)\n\u001b[0;32m      5\u001b[0m regress_values \u001b[39m=\u001b[39m x_values \u001b[39m*\u001b[39m slope \u001b[39m+\u001b[39m intercept\n\u001b[0;32m      6\u001b[0m line_eq \u001b[39m=\u001b[39m \u001b[39m\"\u001b[39m\u001b[39my = \u001b[39m\u001b[39m\"\u001b[39m \u001b[39m+\u001b[39m \u001b[39mstr\u001b[39m(\u001b[39mround\u001b[39m(slope,\u001b[39m2\u001b[39m)) \u001b[39m+\u001b[39m \u001b[39m\"\u001b[39m\u001b[39mx + \u001b[39m\u001b[39m\"\u001b[39m \u001b[39m+\u001b[39m \u001b[39mstr\u001b[39m(\u001b[39mround\u001b[39m(intercept,\u001b[39m2\u001b[39m))\n",
      "File \u001b[1;32mc:\\Users\\becsh\\OneDrive\\Documents\\anaconda\\envs\\dev\\lib\\site-packages\\scipy\\stats\\_stats_mstats_common.py:161\u001b[0m, in \u001b[0;36mlinregress\u001b[1;34m(x, y, alternative)\u001b[0m\n\u001b[0;32m    157\u001b[0m     \u001b[39mraise\u001b[39;00m \u001b[39mValueError\u001b[39;00m(\u001b[39m\"\u001b[39m\u001b[39mCannot calculate a linear regression \u001b[39m\u001b[39m\"\u001b[39m\n\u001b[0;32m    158\u001b[0m                      \u001b[39m\"\u001b[39m\u001b[39mif all x values are identical\u001b[39m\u001b[39m\"\u001b[39m)\n\u001b[0;32m    160\u001b[0m n \u001b[39m=\u001b[39m \u001b[39mlen\u001b[39m(x)\n\u001b[1;32m--> 161\u001b[0m xmean \u001b[39m=\u001b[39m np\u001b[39m.\u001b[39;49mmean(x, \u001b[39mNone\u001b[39;49;00m)\n\u001b[0;32m    162\u001b[0m ymean \u001b[39m=\u001b[39m np\u001b[39m.\u001b[39mmean(y, \u001b[39mNone\u001b[39;00m)\n\u001b[0;32m    164\u001b[0m \u001b[39m# Average sums of square differences from the mean\u001b[39;00m\n\u001b[0;32m    165\u001b[0m \u001b[39m#   ssxm = mean( (x-mean(x))^2 )\u001b[39;00m\n\u001b[0;32m    166\u001b[0m \u001b[39m#   ssxym = mean( (x-mean(x)) * (y-mean(y)) )\u001b[39;00m\n",
      "File \u001b[1;32m<__array_function__ internals>:180\u001b[0m, in \u001b[0;36mmean\u001b[1;34m(*args, **kwargs)\u001b[0m\n",
      "File \u001b[1;32mc:\\Users\\becsh\\OneDrive\\Documents\\anaconda\\envs\\dev\\lib\\site-packages\\numpy\\core\\fromnumeric.py:3432\u001b[0m, in \u001b[0;36mmean\u001b[1;34m(a, axis, dtype, out, keepdims, where)\u001b[0m\n\u001b[0;32m   3429\u001b[0m     \u001b[39melse\u001b[39;00m:\n\u001b[0;32m   3430\u001b[0m         \u001b[39mreturn\u001b[39;00m mean(axis\u001b[39m=\u001b[39maxis, dtype\u001b[39m=\u001b[39mdtype, out\u001b[39m=\u001b[39mout, \u001b[39m*\u001b[39m\u001b[39m*\u001b[39mkwargs)\n\u001b[1;32m-> 3432\u001b[0m \u001b[39mreturn\u001b[39;00m _methods\u001b[39m.\u001b[39m_mean(a, axis\u001b[39m=\u001b[39maxis, dtype\u001b[39m=\u001b[39mdtype,\n\u001b[0;32m   3433\u001b[0m                       out\u001b[39m=\u001b[39mout, \u001b[39m*\u001b[39m\u001b[39m*\u001b[39mkwargs)\n",
      "File \u001b[1;32mc:\\Users\\becsh\\OneDrive\\Documents\\anaconda\\envs\\dev\\lib\\site-packages\\numpy\\core\\_methods.py:192\u001b[0m, in \u001b[0;36m_mean\u001b[1;34m(a, axis, dtype, out, keepdims, where)\u001b[0m\n\u001b[0;32m    190\u001b[0m         ret \u001b[39m=\u001b[39m ret\u001b[39m.\u001b[39mdtype\u001b[39m.\u001b[39mtype(ret \u001b[39m/\u001b[39m rcount)\n\u001b[0;32m    191\u001b[0m \u001b[39melse\u001b[39;00m:\n\u001b[1;32m--> 192\u001b[0m     ret \u001b[39m=\u001b[39m ret \u001b[39m/\u001b[39;49m rcount\n\u001b[0;32m    194\u001b[0m \u001b[39mreturn\u001b[39;00m ret\n",
      "\u001b[1;31mTypeError\u001b[0m: ufunc 'divide' not supported for the input types, and the inputs could not be safely coerced to any supported types according to the casting rule ''safe''"
     ]
    }
   ],
   "source": [
    "# Linear regression \n",
    "x_values = realestate_data_clean_df[\"room_type\"]\n",
    "y_values = realestate_data_clean_df['price']\n",
    "(slope, intercept, rvalue, pvalue, stderr) = linregress(x_values, y_values)\n",
    "regress_values = x_values * slope + intercept\n",
    "line_eq = \"y = \" + str(round(slope,2)) + \"x + \" + str(round(intercept,2))\n",
    "plt.scatter(x_values,y_values)\n",
    "plt.plot(x_values,regress_values,\"r-\")\n",
    "plt.annotate(line_eq,(50,26),fontsize=15,color=\"red\")\n",
    "plt.xlabel('Room Type')\n",
    "plt.ylabel('Price')\n",
    "print(f\"The r-squared is: {rvalue**2}\")\n",
    "plt.show()"
   ]
  },
  {
   "cell_type": "code",
   "execution_count": 57,
   "metadata": {},
   "outputs": [
    {
     "ename": "ValueError",
     "evalue": "shape mismatch: objects cannot be broadcast to a single shape.  Mismatch is between arg 0 with shape (5,) and arg 1 with shape (166,).",
     "output_type": "error",
     "traceback": [
      "\u001b[1;31m---------------------------------------------------------------------------\u001b[0m",
      "\u001b[1;31mValueError\u001b[0m                                Traceback (most recent call last)",
      "Cell \u001b[1;32mIn[57], line 12\u001b[0m\n\u001b[0;32m     10\u001b[0m fig3\u001b[39m.\u001b[39mpatch\u001b[39m.\u001b[39mset_facecolor(\u001b[39m'\u001b[39m\u001b[39mlightgray\u001b[39m\u001b[39m'\u001b[39m)\n\u001b[0;32m     11\u001b[0m ax2\u001b[39m.\u001b[39mset_facecolor(\u001b[39m'\u001b[39m\u001b[39mlightgray\u001b[39m\u001b[39m'\u001b[39m)\n\u001b[1;32m---> 12\u001b[0m plt\u001b[39m.\u001b[39;49mbar(x_rooms1, y_values1, color\u001b[39m=\u001b[39;49m\u001b[39m'\u001b[39;49m\u001b[39mpurple\u001b[39;49m\u001b[39m'\u001b[39;49m, edgecolor\u001b[39m=\u001b[39;49m\u001b[39m'\u001b[39;49m\u001b[39mb\u001b[39;49m\u001b[39m'\u001b[39;49m)\n\u001b[0;32m     13\u001b[0m plt\u001b[39m.\u001b[39mbar(x_rooms2, y_values2, color\u001b[39m=\u001b[39m\u001b[39m'\u001b[39m\u001b[39mb\u001b[39m\u001b[39m'\u001b[39m, edgecolor\u001b[39m=\u001b[39m\u001b[39m'\u001b[39m\u001b[39mb\u001b[39m\u001b[39m'\u001b[39m)\n\u001b[0;32m     14\u001b[0m plt\u001b[39m.\u001b[39mbar(x_rooms3, y_values3, color\u001b[39m=\u001b[39m\u001b[39m'\u001b[39m\u001b[39myellowgreen\u001b[39m\u001b[39m'\u001b[39m, edgecolor\u001b[39m=\u001b[39m\u001b[39m'\u001b[39m\u001b[39mb\u001b[39m\u001b[39m'\u001b[39m)\n",
      "File \u001b[1;32mc:\\Users\\becsh\\OneDrive\\Documents\\anaconda\\envs\\dev\\lib\\site-packages\\matplotlib\\pyplot.py:2439\u001b[0m, in \u001b[0;36mbar\u001b[1;34m(x, height, width, bottom, align, data, **kwargs)\u001b[0m\n\u001b[0;32m   2435\u001b[0m \u001b[39m@_copy_docstring_and_deprecators\u001b[39m(Axes\u001b[39m.\u001b[39mbar)\n\u001b[0;32m   2436\u001b[0m \u001b[39mdef\u001b[39;00m \u001b[39mbar\u001b[39m(\n\u001b[0;32m   2437\u001b[0m         x, height, width\u001b[39m=\u001b[39m\u001b[39m0.8\u001b[39m, bottom\u001b[39m=\u001b[39m\u001b[39mNone\u001b[39;00m, \u001b[39m*\u001b[39m, align\u001b[39m=\u001b[39m\u001b[39m'\u001b[39m\u001b[39mcenter\u001b[39m\u001b[39m'\u001b[39m,\n\u001b[0;32m   2438\u001b[0m         data\u001b[39m=\u001b[39m\u001b[39mNone\u001b[39;00m, \u001b[39m*\u001b[39m\u001b[39m*\u001b[39mkwargs):\n\u001b[1;32m-> 2439\u001b[0m     \u001b[39mreturn\u001b[39;00m gca()\u001b[39m.\u001b[39mbar(\n\u001b[0;32m   2440\u001b[0m         x, height, width\u001b[39m=\u001b[39mwidth, bottom\u001b[39m=\u001b[39mbottom, align\u001b[39m=\u001b[39malign,\n\u001b[0;32m   2441\u001b[0m         \u001b[39m*\u001b[39m\u001b[39m*\u001b[39m({\u001b[39m\"\u001b[39m\u001b[39mdata\u001b[39m\u001b[39m\"\u001b[39m: data} \u001b[39mif\u001b[39;00m data \u001b[39mis\u001b[39;00m \u001b[39mnot\u001b[39;00m \u001b[39mNone\u001b[39;00m \u001b[39melse\u001b[39;00m {}), \u001b[39m*\u001b[39m\u001b[39m*\u001b[39mkwargs)\n",
      "File \u001b[1;32mc:\\Users\\becsh\\OneDrive\\Documents\\anaconda\\envs\\dev\\lib\\site-packages\\matplotlib\\__init__.py:1442\u001b[0m, in \u001b[0;36m_preprocess_data.<locals>.inner\u001b[1;34m(ax, data, *args, **kwargs)\u001b[0m\n\u001b[0;32m   1439\u001b[0m \u001b[39m@functools\u001b[39m\u001b[39m.\u001b[39mwraps(func)\n\u001b[0;32m   1440\u001b[0m \u001b[39mdef\u001b[39;00m \u001b[39minner\u001b[39m(ax, \u001b[39m*\u001b[39margs, data\u001b[39m=\u001b[39m\u001b[39mNone\u001b[39;00m, \u001b[39m*\u001b[39m\u001b[39m*\u001b[39mkwargs):\n\u001b[0;32m   1441\u001b[0m     \u001b[39mif\u001b[39;00m data \u001b[39mis\u001b[39;00m \u001b[39mNone\u001b[39;00m:\n\u001b[1;32m-> 1442\u001b[0m         \u001b[39mreturn\u001b[39;00m func(ax, \u001b[39m*\u001b[39m\u001b[39mmap\u001b[39m(sanitize_sequence, args), \u001b[39m*\u001b[39m\u001b[39m*\u001b[39mkwargs)\n\u001b[0;32m   1444\u001b[0m     bound \u001b[39m=\u001b[39m new_sig\u001b[39m.\u001b[39mbind(ax, \u001b[39m*\u001b[39margs, \u001b[39m*\u001b[39m\u001b[39m*\u001b[39mkwargs)\n\u001b[0;32m   1445\u001b[0m     auto_label \u001b[39m=\u001b[39m (bound\u001b[39m.\u001b[39marguments\u001b[39m.\u001b[39mget(label_namer)\n\u001b[0;32m   1446\u001b[0m                   \u001b[39mor\u001b[39;00m bound\u001b[39m.\u001b[39mkwargs\u001b[39m.\u001b[39mget(label_namer))\n",
      "File \u001b[1;32mc:\\Users\\becsh\\OneDrive\\Documents\\anaconda\\envs\\dev\\lib\\site-packages\\matplotlib\\axes\\_axes.py:2417\u001b[0m, in \u001b[0;36mAxes.bar\u001b[1;34m(self, x, height, width, bottom, align, **kwargs)\u001b[0m\n\u001b[0;32m   2414\u001b[0m     \u001b[39mif\u001b[39;00m yerr \u001b[39mis\u001b[39;00m \u001b[39mnot\u001b[39;00m \u001b[39mNone\u001b[39;00m:\n\u001b[0;32m   2415\u001b[0m         yerr \u001b[39m=\u001b[39m \u001b[39mself\u001b[39m\u001b[39m.\u001b[39m_convert_dx(yerr, y0, y, \u001b[39mself\u001b[39m\u001b[39m.\u001b[39mconvert_yunits)\n\u001b[1;32m-> 2417\u001b[0m x, height, width, y, linewidth, hatch \u001b[39m=\u001b[39m np\u001b[39m.\u001b[39;49mbroadcast_arrays(\n\u001b[0;32m   2418\u001b[0m     \u001b[39m# Make args iterable too.\u001b[39;49;00m\n\u001b[0;32m   2419\u001b[0m     np\u001b[39m.\u001b[39;49matleast_1d(x), height, width, y, linewidth, hatch)\n\u001b[0;32m   2421\u001b[0m \u001b[39m# Now that units have been converted, set the tick locations.\u001b[39;00m\n\u001b[0;32m   2422\u001b[0m \u001b[39mif\u001b[39;00m orientation \u001b[39m==\u001b[39m \u001b[39m'\u001b[39m\u001b[39mvertical\u001b[39m\u001b[39m'\u001b[39m:\n",
      "File \u001b[1;32m<__array_function__ internals>:180\u001b[0m, in \u001b[0;36mbroadcast_arrays\u001b[1;34m(*args, **kwargs)\u001b[0m\n",
      "File \u001b[1;32mc:\\Users\\becsh\\OneDrive\\Documents\\anaconda\\envs\\dev\\lib\\site-packages\\numpy\\lib\\stride_tricks.py:540\u001b[0m, in \u001b[0;36mbroadcast_arrays\u001b[1;34m(subok, *args)\u001b[0m\n\u001b[0;32m    533\u001b[0m \u001b[39m# nditer is not used here to avoid the limit of 32 arrays.\u001b[39;00m\n\u001b[0;32m    534\u001b[0m \u001b[39m# Otherwise, something like the following one-liner would suffice:\u001b[39;00m\n\u001b[0;32m    535\u001b[0m \u001b[39m# return np.nditer(args, flags=['multi_index', 'zerosize_ok'],\u001b[39;00m\n\u001b[0;32m    536\u001b[0m \u001b[39m#                  order='C').itviews\u001b[39;00m\n\u001b[0;32m    538\u001b[0m args \u001b[39m=\u001b[39m [np\u001b[39m.\u001b[39marray(_m, copy\u001b[39m=\u001b[39m\u001b[39mFalse\u001b[39;00m, subok\u001b[39m=\u001b[39msubok) \u001b[39mfor\u001b[39;00m _m \u001b[39min\u001b[39;00m args]\n\u001b[1;32m--> 540\u001b[0m shape \u001b[39m=\u001b[39m _broadcast_shape(\u001b[39m*\u001b[39;49margs)\n\u001b[0;32m    542\u001b[0m \u001b[39mif\u001b[39;00m \u001b[39mall\u001b[39m(array\u001b[39m.\u001b[39mshape \u001b[39m==\u001b[39m shape \u001b[39mfor\u001b[39;00m array \u001b[39min\u001b[39;00m args):\n\u001b[0;32m    543\u001b[0m     \u001b[39m# Common case where nothing needs to be broadcasted.\u001b[39;00m\n\u001b[0;32m    544\u001b[0m     \u001b[39mreturn\u001b[39;00m args\n",
      "File \u001b[1;32mc:\\Users\\becsh\\OneDrive\\Documents\\anaconda\\envs\\dev\\lib\\site-packages\\numpy\\lib\\stride_tricks.py:422\u001b[0m, in \u001b[0;36m_broadcast_shape\u001b[1;34m(*args)\u001b[0m\n\u001b[0;32m    417\u001b[0m \u001b[39m\"\"\"Returns the shape of the arrays that would result from broadcasting the\u001b[39;00m\n\u001b[0;32m    418\u001b[0m \u001b[39msupplied arrays against each other.\u001b[39;00m\n\u001b[0;32m    419\u001b[0m \u001b[39m\"\"\"\u001b[39;00m\n\u001b[0;32m    420\u001b[0m \u001b[39m# use the old-iterator because np.nditer does not handle size 0 arrays\u001b[39;00m\n\u001b[0;32m    421\u001b[0m \u001b[39m# consistently\u001b[39;00m\n\u001b[1;32m--> 422\u001b[0m b \u001b[39m=\u001b[39m np\u001b[39m.\u001b[39;49mbroadcast(\u001b[39m*\u001b[39;49margs[:\u001b[39m32\u001b[39;49m])\n\u001b[0;32m    423\u001b[0m \u001b[39m# unfortunately, it cannot handle 32 or more arguments directly\u001b[39;00m\n\u001b[0;32m    424\u001b[0m \u001b[39mfor\u001b[39;00m pos \u001b[39min\u001b[39;00m \u001b[39mrange\u001b[39m(\u001b[39m32\u001b[39m, \u001b[39mlen\u001b[39m(args), \u001b[39m31\u001b[39m):\n\u001b[0;32m    425\u001b[0m     \u001b[39m# ironically, np.broadcast does not properly handle np.broadcast\u001b[39;00m\n\u001b[0;32m    426\u001b[0m     \u001b[39m# objects (it treats them as scalars)\u001b[39;00m\n\u001b[0;32m    427\u001b[0m     \u001b[39m# use broadcasting to avoid allocating the full array\u001b[39;00m\n",
      "\u001b[1;31mValueError\u001b[0m: shape mismatch: objects cannot be broadcast to a single shape.  Mismatch is between arg 0 with shape (5,) and arg 1 with shape (166,)."
     ]
    },
    {
     "data": {
      "image/png": "[encoded data removed]",
      "text/plain": [
       "<Figure size 1600x1100 with 1 Axes>"
      ]
     },
     "metadata": {},
     "output_type": "display_data"
    }
   ],
   "source": [
    "loc_price = realestate_data_clean_df.groupby(['neighbourhood','room_type'])['price'].mean().reset_index()\n",
    "locations = loc_price.neighbourhood.unique()\n",
    "x_rooms1 = [0.8, 3.8, 6.8, 9.8, 12.8]\n",
    "x_rooms2 = [1.6, 4.6, 7.6, 10.6, 13.6]\n",
    "x_rooms3 = [2.4, 5.4, 8.4, 11.4, 14.4]\n",
    "y_values1 = loc_price[loc_price['room_type'] == 'Entire home/apt']['price'].values\n",
    "y_values2 = loc_price[loc_price['room_type'] == 'Private room']['price'].values\n",
    "y_values3 = loc_price[loc_price['room_type'] == 'Shared room']['price'].values\n",
    "fig3,ax2 = plt.subplots(figsize=(16,11))\n",
    "fig3.patch.set_facecolor('lightgray')\n",
    "ax2.set_facecolor('lightgray')\n",
    "plt.bar(x_rooms1, y_values1, color='purple', edgecolor='b')\n",
    "plt.bar(x_rooms2, y_values2, color='b', edgecolor='b')\n",
    "plt.bar(x_rooms3, y_values3, color='yellowgreen', edgecolor='b')\n",
    "ax2.set_xticks(range(1,16,3))\n",
    "ax2.set_xticklabels(locations, fontsize='12')\n",
    "for tick in ax2.get_xticklabels():\n",
    "    tick.set_rotation(45)\n",
    "plt.xlabel('Location/Room-type',fontsize='15')\n",
    "plt.ylabel('Prices', fontsize='15')\n",
    "plt.legend(labels=loc_price.room_type.unique(), loc='best')\n",
    "plt.title('New York Price-Rental Distribution by Location and Room-type',fontsize='15')\n",
    "plt.show()"
   ]
  }
 ],
 "metadata": {
  "kernelspec": {
   "display_name": "Python 3 (ipykernel)",
   "language": "python",
   "name": "python3"
  },
  "language_info": {
   "codemirror_mode": {
    "name": "ipython",
    "version": 3
   },
   "file_extension": ".py",
   "mimetype": "text/x-python",
   "name": "python",
   "nbconvert_exporter": "python",
   "pygments_lexer": "ipython3",
   "version": "3.10.4"
  }
 },
 "nbformat": 4,
 "nbformat_minor": 4
}
